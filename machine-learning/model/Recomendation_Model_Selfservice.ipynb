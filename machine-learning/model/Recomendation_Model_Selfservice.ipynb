{
  "nbformat": 4,
  "nbformat_minor": 0,
  "metadata": {
    "colab": {
      "provenance": []
    },
    "kernelspec": {
      "name": "python3",
      "display_name": "Python 3"
    },
    "language_info": {
      "name": "python"
    }
  },
  "cells": [
    {
      "cell_type": "code",
      "execution_count": 1,
      "metadata": {
        "id": "xXNT9Rwz21VI"
      },
      "outputs": [],
      "source": [
        "import numpy as np\n",
        "import pandas as pd\n",
        "from sklearn.model_selection import train_test_split\n",
        "import tensorflow as tf\n",
        "from tensorflow.keras.models import Model\n",
        "from tensorflow.keras.layers import Input, Dense, Concatenate, Dropout, BatchNormalization\n",
        "from tensorflow.keras.callbacks import EarlyStopping, ReduceLROnPlateau\n",
        "from geopy.distance import geodesic\n",
        "from sklearn.metrics import mean_absolute_error, mean_squared_error\n",
        "import matplotlib.pyplot as plt\n",
        "import seaborn as sns\n",
        "from keras.models import load_model\n",
        "import math\n",
        "from sklearn.preprocessing import MinMaxScaler\n",
        "from tensorflow.keras.layers import Input, Dense, Concatenate\n",
        "from tensorflow.keras.layers.experimental.preprocessing import Normalization"
      ]
    },
    {
      "cell_type": "code",
      "source": [
        "data = pd.read_csv('https://raw.githubusercontent.com/elsamaulida5/machine-learning/main/cleaned%20data/laundry.csv')"
      ],
      "metadata": {
        "id": "oc1mF1744cnr"
      },
      "execution_count": 2,
      "outputs": []
    },
    {
      "cell_type": "code",
      "source": [
        "data.isna().sum()"
      ],
      "metadata": {
        "colab": {
          "base_uri": "https://localhost:8080/"
        },
        "id": "6zLIajcg8CCQ",
        "outputId": "8ab0ff3b-4aaa-4286-8810-8d6999f04737"
      },
      "execution_count": 3,
      "outputs": [
        {
          "output_type": "execute_result",
          "data": {
            "text/plain": [
              "ID Laundry           0\n",
              "Name                 0\n",
              "Fulladdress          2\n",
              "Categories           0\n",
              "phone              131\n",
              "Review Count         0\n",
              "Average Rating       0\n",
              "Review URL          24\n",
              "Google Maps URL      0\n",
              "Latitude             0\n",
              "Longitude            0\n",
              "Website            760\n",
              "Opening Hours      102\n",
              "Featured Image       8\n",
              "Layanan              3\n",
              "dtype: int64"
            ]
          },
          "metadata": {},
          "execution_count": 3
        }
      ]
    },
    {
      "cell_type": "code",
      "source": [
        "data = data.fillna('None')\n",
        "data.isna().sum()"
      ],
      "metadata": {
        "colab": {
          "base_uri": "https://localhost:8080/"
        },
        "id": "8b42pxj8HzU2",
        "outputId": "3fcaa257-8fca-4936-c00f-2832a6ca4c14"
      },
      "execution_count": 4,
      "outputs": [
        {
          "output_type": "execute_result",
          "data": {
            "text/plain": [
              "ID Laundry         0\n",
              "Name               0\n",
              "Fulladdress        0\n",
              "Categories         0\n",
              "phone              0\n",
              "Review Count       0\n",
              "Average Rating     0\n",
              "Review URL         0\n",
              "Google Maps URL    0\n",
              "Latitude           0\n",
              "Longitude          0\n",
              "Website            0\n",
              "Opening Hours      0\n",
              "Featured Image     0\n",
              "Layanan            0\n",
              "dtype: int64"
            ]
          },
          "metadata": {},
          "execution_count": 4
        }
      ]
    },
    {
      "cell_type": "code",
      "source": [
        "data['Layanan'].unique()"
      ],
      "metadata": {
        "colab": {
          "base_uri": "https://localhost:8080/"
        },
        "id": "1zAud5MqJeT1",
        "outputId": "4131226b-3a2c-4cfc-c54b-c62da594f18b"
      },
      "execution_count": 5,
      "outputs": [
        {
          "output_type": "execute_result",
          "data": {
            "text/plain": [
              "array(['just wash, dry cleaning, iron wash', 'just wash, iron wash',\n",
              "       'just wash, dry cleaning, iron wash, self laundry', 'None',\n",
              "       'just wash, dry cleaning, iron wash, carpet laundry',\n",
              "       'just wash, dry cleaning, iron wash, shoe laundry',\n",
              "       'just wash, iron wash, self laundry',\n",
              "       'just wash, dry cleaning, shoe laundry, iron wash, carpet laundry',\n",
              "       'just wash, car seat laundry, iron wash',\n",
              "       'just wash, dry cleaning, car seat laundry, iron wash',\n",
              "       'self laundry'], dtype=object)"
            ]
          },
          "metadata": {},
          "execution_count": 5
        }
      ]
    },
    {
      "cell_type": "code",
      "source": [
        "# Kata kunci untuk self-service\n",
        "keyword = 'self laundry'\n",
        "\n",
        "# Memfilter laundry yang termasuk self-service berdasarkan kata kunci\n",
        "self_service_df = data[data['Layanan'].str.contains(keyword, case=False, na=False)]\n",
        "\n",
        "# Menampilkan hasil\n",
        "#print(\"Data yang memiliki layanan self-service:\")\n",
        "#self_service_df"
      ],
      "metadata": {
        "id": "WUwHH39rR4VN"
      },
      "execution_count": 6,
      "outputs": []
    },
    {
      "cell_type": "markdown",
      "source": [
        "#### Model Self Service (Tensorflow)"
      ],
      "metadata": {
        "id": "Il1LhzzRnopo"
      }
    },
    {
      "cell_type": "code",
      "source": [
        "def prepare_data(self_service_df, user_location):\n",
        "    # Menambahkan fitur jarak ke lokasi pengguna\n",
        "    self_service_df['Distance'] = self_service_df.apply(lambda row: geodesic(user_location, (row['Latitude'], row['Longitude'])).km, axis=1)\n",
        "\n",
        "    # Membuat fitur dan label dengan fitur jarak\n",
        "    features = self_service_df[['Latitude', 'Longitude', 'Distance']]\n",
        "    labels = self_service_df['Average Rating']\n",
        "\n",
        "    # Split data menjadi train dan test\n",
        "    X_train, X_test, y_train, y_test = train_test_split(features, labels, test_size=0.2, random_state=42)\n",
        "\n",
        "    # Normalisasi fitur\n",
        "    scaler = MinMaxScaler()\n",
        "    X_train_scaled = scaler.fit_transform(X_train)\n",
        "    X_test_scaled = scaler.transform(X_test)\n",
        "\n",
        "    return X_train_scaled, X_test_scaled, y_train, y_test"
      ],
      "metadata": {
        "id": "2xxOTDWCr9Xr"
      },
      "execution_count": 7,
      "outputs": []
    },
    {
      "cell_type": "code",
      "source": [
        "def build_model():\n",
        "    # Input layer\n",
        "    latitude_input = Input(shape=(1,), name='latitude')\n",
        "    longitude_input = Input(shape=(1,), name='longitude')\n",
        "    distance_input = Input(shape=(1,), name='distance')\n",
        "\n",
        "    # Menggabungkan input\n",
        "    concatenated = Concatenate()([latitude_input, longitude_input, distance_input])\n",
        "\n",
        "    # Normalize the concatenated inputs\n",
        "    normalizer = Normalization()\n",
        "    normalizer.adapt(np.array([[0, 0, 0], [1, 1, 1]]))  # Dummy data to adapt normalizer\n",
        "    normalized = normalizer(concatenated)\n",
        "\n",
        "    # Membangun model neural network\n",
        "    x = Dense(64, activation='relu')(normalized)\n",
        "    x = Dropout(0.2)(x)  # Add dropout to prevent overfitting\n",
        "    x = Dense(32, activation='relu')(x)\n",
        "    x = Dropout(0.2)(x)  # Add dropout to prevent overfitting\n",
        "    output = Dense(1, activation='linear')(x)\n",
        "\n",
        "    # Model\n",
        "    model = Model(inputs=[latitude_input, longitude_input, distance_input], outputs=output)\n",
        "    model.compile(optimizer='adam', loss='mse')  # Use MSE as the loss function\n",
        "\n",
        "    return model\n",
        "\n",
        "def train_model(model, X_train_scaled, X_test_scaled, y_train, y_test):\n",
        "    # Membuat dataset TensorFlow dengan dua input terpisah\n",
        "    def split_lat_lon_distance(features, label):\n",
        "        latitude = features[0]\n",
        "        longitude = features[1]\n",
        "        distance = features[2]\n",
        "        return {'latitude': latitude, 'longitude': longitude, 'distance': distance}, label\n",
        "\n",
        "    # Membuat dataset dengan map function untuk memisahkan latitude dan longitude\n",
        "    train_dataset = tf.data.Dataset.from_tensor_slices((X_train_scaled, y_train.values))\n",
        "    train_dataset = train_dataset.shuffle(buffer_size=len(X_train_scaled)).map(split_lat_lon_distance).batch(32)\n",
        "\n",
        "    test_dataset = tf.data.Dataset.from_tensor_slices((X_test_scaled, y_test.values))\n",
        "    test_dataset = test_dataset.map(split_lat_lon_distance).batch(32)\n",
        "\n",
        "    # Early stopping\n",
        "    early_stopping = EarlyStopping(monitor='val_loss', patience=10, restore_best_weights=True)\n",
        "    reduce_lr = ReduceLROnPlateau(monitor='val_loss', factor=0.2, patience=5, min_lr=0.001)\n",
        "\n",
        "    # Melatih model\n",
        "    history = model.fit(train_dataset, epochs=100, validation_data=test_dataset, callbacks=[early_stopping, reduce_lr])\n",
        "\n",
        "    # Evaluasi model\n",
        "    loss = model.evaluate(test_dataset)\n",
        "    print(\"Test Loss:\", loss)\n",
        "\n",
        "    # Prediksi\n",
        "    y_pred = model.predict(test_dataset).flatten()  # Pastikan bentuknya sesuai\n",
        "    # Menghitung metrik tambahan\n",
        "    mae = mean_absolute_error(y_test, y_pred)\n",
        "    mse = mean_squared_error(y_test, y_pred)\n",
        "    print(\"Mean Absolute Error:\", mae)\n",
        "    print(\"Mean Squared Error:\", mse)\n",
        "\n",
        "    return history"
      ],
      "metadata": {
        "id": "aFd3bPXpQFO9"
      },
      "execution_count": 8,
      "outputs": []
    },
    {
      "cell_type": "code",
      "source": [
        "def save_model(model, filename):\n",
        "    model.save(filename)\n",
        "\n",
        "def main(self_service_df, user_location):\n",
        "    X_train_scaled, X_test_scaled, y_train, y_test = prepare_data(self_service_df, user_location)\n",
        "    model = build_model()\n",
        "    history = train_model(model, X_train_scaled, X_test_scaled, y_train, y_test)\n",
        "    save_model(model, \"model_SelfService.h5\")\n",
        "    return model, history\n",
        "\n",
        "user_location = np.array([-6.918552, 107.586449])\n",
        "model, history = main(self_service_df, user_location)"
      ],
      "metadata": {
        "colab": {
          "base_uri": "https://localhost:8080/"
        },
        "id": "-LhQiTxbQpvy",
        "outputId": "242a8d2c-3c82-489f-8b07-9aa00d501cfd"
      },
      "execution_count": 9,
      "outputs": [
        {
          "output_type": "stream",
          "name": "stderr",
          "text": [
            "<ipython-input-7-a55f6d13727a>:3: SettingWithCopyWarning: \n",
            "A value is trying to be set on a copy of a slice from a DataFrame.\n",
            "Try using .loc[row_indexer,col_indexer] = value instead\n",
            "\n",
            "See the caveats in the documentation: https://pandas.pydata.org/pandas-docs/stable/user_guide/indexing.html#returning-a-view-versus-a-copy\n",
            "  self_service_df['Distance'] = self_service_df.apply(lambda row: geodesic(user_location, (row['Latitude'], row['Longitude'])).km, axis=1)\n"
          ]
        },
        {
          "output_type": "stream",
          "name": "stdout",
          "text": [
            "Epoch 1/100\n",
            "1/1 [==============================] - 1s 1s/step - loss: 17.5562 - val_loss: 20.9538 - lr: 0.0010\n",
            "Epoch 2/100\n",
            "1/1 [==============================] - 0s 57ms/step - loss: 16.7739 - val_loss: 20.4260 - lr: 0.0010\n",
            "Epoch 3/100\n",
            "1/1 [==============================] - 0s 43ms/step - loss: 16.0568 - val_loss: 19.9176 - lr: 0.0010\n",
            "Epoch 4/100\n",
            "1/1 [==============================] - 0s 39ms/step - loss: 16.2993 - val_loss: 19.4221 - lr: 0.0010\n",
            "Epoch 5/100\n",
            "1/1 [==============================] - 0s 41ms/step - loss: 15.7209 - val_loss: 18.9337 - lr: 0.0010\n",
            "Epoch 6/100\n",
            "1/1 [==============================] - 0s 39ms/step - loss: 15.0402 - val_loss: 18.4524 - lr: 0.0010\n",
            "Epoch 7/100\n",
            "1/1 [==============================] - 0s 39ms/step - loss: 14.7809 - val_loss: 17.9807 - lr: 0.0010\n",
            "Epoch 8/100\n",
            "1/1 [==============================] - 0s 42ms/step - loss: 15.4084 - val_loss: 17.5230 - lr: 0.0010\n",
            "Epoch 9/100\n",
            "1/1 [==============================] - 0s 39ms/step - loss: 14.5171 - val_loss: 17.0719 - lr: 0.0010\n",
            "Epoch 10/100\n",
            "1/1 [==============================] - 0s 38ms/step - loss: 14.8800 - val_loss: 16.6238 - lr: 0.0010\n",
            "Epoch 11/100\n",
            "1/1 [==============================] - 0s 39ms/step - loss: 13.4971 - val_loss: 16.1780 - lr: 0.0010\n",
            "Epoch 12/100\n",
            "1/1 [==============================] - 0s 41ms/step - loss: 13.5040 - val_loss: 15.7299 - lr: 0.0010\n",
            "Epoch 13/100\n",
            "1/1 [==============================] - 0s 42ms/step - loss: 13.3345 - val_loss: 15.2865 - lr: 0.0010\n",
            "Epoch 14/100\n",
            "1/1 [==============================] - 0s 51ms/step - loss: 12.2966 - val_loss: 14.8434 - lr: 0.0010\n",
            "Epoch 15/100\n",
            "1/1 [==============================] - 0s 38ms/step - loss: 11.8702 - val_loss: 14.4039 - lr: 0.0010\n",
            "Epoch 16/100\n",
            "1/1 [==============================] - 0s 41ms/step - loss: 11.4147 - val_loss: 13.9634 - lr: 0.0010\n",
            "Epoch 17/100\n",
            "1/1 [==============================] - 0s 105ms/step - loss: 12.4773 - val_loss: 13.5397 - lr: 0.0010\n",
            "Epoch 18/100\n",
            "1/1 [==============================] - 0s 81ms/step - loss: 10.6466 - val_loss: 13.1191 - lr: 0.0010\n",
            "Epoch 19/100\n",
            "1/1 [==============================] - 0s 54ms/step - loss: 10.3561 - val_loss: 12.6995 - lr: 0.0010\n",
            "Epoch 20/100\n",
            "1/1 [==============================] - 0s 78ms/step - loss: 12.2070 - val_loss: 12.2892 - lr: 0.0010\n",
            "Epoch 21/100\n",
            "1/1 [==============================] - 0s 91ms/step - loss: 9.8056 - val_loss: 11.8784 - lr: 0.0010\n",
            "Epoch 22/100\n",
            "1/1 [==============================] - 0s 139ms/step - loss: 10.4574 - val_loss: 11.4682 - lr: 0.0010\n",
            "Epoch 23/100\n",
            "1/1 [==============================] - 0s 64ms/step - loss: 9.6006 - val_loss: 11.0541 - lr: 0.0010\n",
            "Epoch 24/100\n",
            "1/1 [==============================] - 0s 115ms/step - loss: 10.0860 - val_loss: 10.6443 - lr: 0.0010\n",
            "Epoch 25/100\n",
            "1/1 [==============================] - 0s 87ms/step - loss: 9.0475 - val_loss: 10.2382 - lr: 0.0010\n",
            "Epoch 26/100\n",
            "1/1 [==============================] - 0s 125ms/step - loss: 8.7430 - val_loss: 9.8363 - lr: 0.0010\n",
            "Epoch 27/100\n",
            "1/1 [==============================] - 0s 71ms/step - loss: 9.4784 - val_loss: 9.4353 - lr: 0.0010\n",
            "Epoch 28/100\n",
            "1/1 [==============================] - 0s 144ms/step - loss: 8.6515 - val_loss: 9.0383 - lr: 0.0010\n",
            "Epoch 29/100\n",
            "1/1 [==============================] - 0s 89ms/step - loss: 6.7126 - val_loss: 8.6443 - lr: 0.0010\n",
            "Epoch 30/100\n",
            "1/1 [==============================] - 0s 114ms/step - loss: 7.0837 - val_loss: 8.2535 - lr: 0.0010\n",
            "Epoch 31/100\n",
            "1/1 [==============================] - 0s 67ms/step - loss: 6.8245 - val_loss: 7.8701 - lr: 0.0010\n",
            "Epoch 32/100\n",
            "1/1 [==============================] - 0s 104ms/step - loss: 7.2485 - val_loss: 7.4876 - lr: 0.0010\n",
            "Epoch 33/100\n",
            "1/1 [==============================] - 0s 79ms/step - loss: 5.6601 - val_loss: 7.1078 - lr: 0.0010\n",
            "Epoch 34/100\n",
            "1/1 [==============================] - 0s 138ms/step - loss: 7.9672 - val_loss: 6.7332 - lr: 0.0010\n",
            "Epoch 35/100\n",
            "1/1 [==============================] - 0s 110ms/step - loss: 7.0372 - val_loss: 6.3567 - lr: 0.0010\n",
            "Epoch 36/100\n",
            "1/1 [==============================] - 0s 71ms/step - loss: 4.3895 - val_loss: 5.9800 - lr: 0.0010\n",
            "Epoch 37/100\n",
            "1/1 [==============================] - 0s 85ms/step - loss: 5.1555 - val_loss: 5.6105 - lr: 0.0010\n",
            "Epoch 38/100\n",
            "1/1 [==============================] - 0s 79ms/step - loss: 6.3104 - val_loss: 5.2397 - lr: 0.0010\n",
            "Epoch 39/100\n",
            "1/1 [==============================] - 0s 126ms/step - loss: 5.8591 - val_loss: 4.8759 - lr: 0.0010\n",
            "Epoch 40/100\n",
            "1/1 [==============================] - 0s 122ms/step - loss: 5.9024 - val_loss: 4.5233 - lr: 0.0010\n",
            "Epoch 41/100\n",
            "1/1 [==============================] - 0s 134ms/step - loss: 3.1530 - val_loss: 4.1756 - lr: 0.0010\n",
            "Epoch 42/100\n",
            "1/1 [==============================] - 0s 130ms/step - loss: 7.2956 - val_loss: 3.8356 - lr: 0.0010\n",
            "Epoch 43/100\n",
            "1/1 [==============================] - 0s 294ms/step - loss: 4.4487 - val_loss: 3.5047 - lr: 0.0010\n",
            "Epoch 44/100\n",
            "1/1 [==============================] - 0s 144ms/step - loss: 4.0424 - val_loss: 3.1865 - lr: 0.0010\n",
            "Epoch 45/100\n",
            "1/1 [==============================] - 0s 86ms/step - loss: 3.0659 - val_loss: 2.8810 - lr: 0.0010\n",
            "Epoch 46/100\n",
            "1/1 [==============================] - 0s 191ms/step - loss: 2.7845 - val_loss: 2.5907 - lr: 0.0010\n",
            "Epoch 47/100\n",
            "1/1 [==============================] - 0s 186ms/step - loss: 2.3405 - val_loss: 2.3176 - lr: 0.0010\n",
            "Epoch 48/100\n",
            "1/1 [==============================] - 0s 195ms/step - loss: 2.2999 - val_loss: 2.0594 - lr: 0.0010\n",
            "Epoch 49/100\n",
            "1/1 [==============================] - 0s 109ms/step - loss: 2.8110 - val_loss: 1.8173 - lr: 0.0010\n",
            "Epoch 50/100\n",
            "1/1 [==============================] - 0s 149ms/step - loss: 1.4281 - val_loss: 1.5919 - lr: 0.0010\n",
            "Epoch 51/100\n",
            "1/1 [==============================] - 0s 127ms/step - loss: 1.9894 - val_loss: 1.3801 - lr: 0.0010\n",
            "Epoch 52/100\n",
            "1/1 [==============================] - 0s 273ms/step - loss: 2.1859 - val_loss: 1.1799 - lr: 0.0010\n",
            "Epoch 53/100\n",
            "1/1 [==============================] - 0s 133ms/step - loss: 2.2456 - val_loss: 0.9959 - lr: 0.0010\n",
            "Epoch 54/100\n",
            "1/1 [==============================] - 0s 116ms/step - loss: 1.6559 - val_loss: 0.8230 - lr: 0.0010\n",
            "Epoch 55/100\n",
            "1/1 [==============================] - 0s 136ms/step - loss: 1.7770 - val_loss: 0.6672 - lr: 0.0010\n",
            "Epoch 56/100\n",
            "1/1 [==============================] - 0s 112ms/step - loss: 2.4313 - val_loss: 0.5303 - lr: 0.0010\n",
            "Epoch 57/100\n",
            "1/1 [==============================] - 0s 92ms/step - loss: 2.3562 - val_loss: 0.4116 - lr: 0.0010\n",
            "Epoch 58/100\n",
            "1/1 [==============================] - 0s 66ms/step - loss: 1.0275 - val_loss: 0.3132 - lr: 0.0010\n",
            "Epoch 59/100\n",
            "1/1 [==============================] - 0s 70ms/step - loss: 2.0010 - val_loss: 0.2321 - lr: 0.0010\n",
            "Epoch 60/100\n",
            "1/1 [==============================] - 0s 77ms/step - loss: 0.6035 - val_loss: 0.1715 - lr: 0.0010\n",
            "Epoch 61/100\n",
            "1/1 [==============================] - 0s 96ms/step - loss: 1.1115 - val_loss: 0.1298 - lr: 0.0010\n",
            "Epoch 62/100\n",
            "1/1 [==============================] - 0s 127ms/step - loss: 0.9161 - val_loss: 0.1033 - lr: 0.0010\n",
            "Epoch 63/100\n",
            "1/1 [==============================] - 0s 70ms/step - loss: 0.6533 - val_loss: 0.0916 - lr: 0.0010\n",
            "Epoch 64/100\n",
            "1/1 [==============================] - 0s 69ms/step - loss: 0.8288 - val_loss: 0.0921 - lr: 0.0010\n",
            "Epoch 65/100\n",
            "1/1 [==============================] - 0s 79ms/step - loss: 1.6991 - val_loss: 0.1026 - lr: 0.0010\n",
            "Epoch 66/100\n",
            "1/1 [==============================] - 0s 148ms/step - loss: 0.5306 - val_loss: 0.1223 - lr: 0.0010\n",
            "Epoch 67/100\n",
            "1/1 [==============================] - 0s 93ms/step - loss: 0.9859 - val_loss: 0.1490 - lr: 0.0010\n",
            "Epoch 68/100\n",
            "1/1 [==============================] - 0s 66ms/step - loss: 0.8272 - val_loss: 0.1835 - lr: 0.0010\n",
            "Epoch 69/100\n",
            "1/1 [==============================] - 0s 147ms/step - loss: 1.5111 - val_loss: 0.2251 - lr: 0.0010\n",
            "Epoch 70/100\n",
            "1/1 [==============================] - 0s 69ms/step - loss: 0.1252 - val_loss: 0.2713 - lr: 0.0010\n",
            "Epoch 71/100\n",
            "1/1 [==============================] - 0s 117ms/step - loss: 0.2865 - val_loss: 0.3199 - lr: 0.0010\n",
            "Epoch 72/100\n",
            "1/1 [==============================] - 0s 70ms/step - loss: 0.4174 - val_loss: 0.3678 - lr: 0.0010\n",
            "Epoch 73/100\n",
            "1/1 [==============================] - 0s 76ms/step - loss: 0.1653 - val_loss: 0.4113 - lr: 0.0010\n",
            "1/1 [==============================] - 0s 39ms/step - loss: 0.0916\n",
            "Test Loss: 0.09161064028739929\n",
            "1/1 [==============================] - 0s 377ms/step\n",
            "Mean Absolute Error: 0.2985789299011232\n",
            "Mean Squared Error: 0.09161060940439723\n"
          ]
        },
        {
          "output_type": "stream",
          "name": "stderr",
          "text": [
            "/usr/local/lib/python3.10/dist-packages/keras/src/engine/training.py:3103: UserWarning: You are saving your model as an HDF5 file via `model.save()`. This file format is considered legacy. We recommend using instead the native Keras format, e.g. `model.save('my_model.keras')`.\n",
            "  saving_api.save_model(\n"
          ]
        }
      ]
    },
    {
      "cell_type": "code",
      "source": [
        "# Load the saved model\n",
        "model = load_model(\"model_SelfService.h5\")\n",
        "\n",
        "# Plot training & validation loss values\n",
        "plt.figure(figsize=(10, 6))\n",
        "plt.plot(history.history['loss'], label='train_loss')\n",
        "plt.plot(history.history['val_loss'], label='val_loss')\n",
        "plt.title('Model Loss')\n",
        "plt.ylabel('Loss')\n",
        "plt.xlabel('Epoch')\n",
        "plt.legend(loc='upper right')\n",
        "plt.show()"
      ],
      "metadata": {
        "colab": {
          "base_uri": "https://localhost:8080/",
          "height": 564
        },
        "id": "3ZigYzN-QsXu",
        "outputId": "4a5e2edf-1f31-4775-9741-1a7fba8b8b8d"
      },
      "execution_count": 10,
      "outputs": [
        {
          "output_type": "display_data",
          "data": {
            "text/plain": [
              "<Figure size 1000x600 with 1 Axes>"
            ],
            "image/png": "[encoded data removed]"
          },
          "metadata": {}
        }
      ]
    },
    {
      "cell_type": "code",
      "source": [
        "# Menjalankan Model_SelfService.h5\n",
        "# Fungsi Haversine\n",
        "def haversine(lon1, lat1, lon2, lat2):\n",
        "    lon1, lat1, lon2, lat2 = map(math.radians, [lon1, lat1, lon2, lat2])\n",
        "    dlon = lon2 - lon1\n",
        "    dlat = lat2 - lat1\n",
        "    a = math.sin(dlat/2)**2 + math.cos(lat1) * math.cos(lat2) * math.sin(dlon/2)**2\n",
        "    c = 2 * math.asin(math.sqrt(a))\n",
        "    r = 6371\n",
        "    return c * r\n",
        "\n",
        "def find_nearest_places(self_service_df, user_location, model_path):\n",
        "    model = load_model(model_path)\n",
        "\n",
        "    # Menghitung jarak dari lokasi pengguna ke setiap tempat\n",
        "    self_service_df.loc[:, 'Distance'] = self_service_df.apply(lambda row: haversine(user_location[1], user_location[0], row['Longitude'], row['Latitude']), axis=1)\n",
        "\n",
        "    # Menyusun tempat berdasarkan prediksi rating dan jarak\n",
        "    recommended_places = self_service_df.sort_values(by=['Distance'], ascending=[True])\n",
        "\n",
        "    # Membatasi hasil menjadi 10 tempat terdekat\n",
        "    top_10_places = recommended_places.head(10)\n",
        "\n",
        "    return top_10_places\n",
        "\n",
        "def print_nearest_places(nearest_places, user_location):\n",
        "    selected_columns = ['Name', 'Fulladdress', 'Categories', 'phone', 'Average Rating', 'Distance', 'Google Maps URL','Website', 'Opening Hours', 'Layanan']\n",
        "\n",
        "    # Filter tempat yang berada dalam jarak 500 km\n",
        "    nearest_places_within_50km = nearest_places[nearest_places['Distance'] <= 50]\n",
        "\n",
        "    if nearest_places_within_50km.empty:\n",
        "        print(\"Tidak ada tempat laundry yang ditemukan\")\n",
        "        return\n",
        "\n",
        "    print(nearest_places)\n",
        "\n",
        "# Contoh penggunaan fungsi\n",
        "user_location = np.array([-6.918552, 107.586449])\n",
        "nearest_places_sorted = find_nearest_places(self_service_df, user_location, \"model_SelfService.h5\")\n",
        "print_nearest_places(nearest_places_sorted, user_location)"
      ],
      "metadata": {
        "colab": {
          "base_uri": "https://localhost:8080/"
        },
        "id": "2C13D_7uQ17F",
        "outputId": "8173b2c9-87da-4c64-ab11-101bdec55f2e"
      },
      "execution_count": 11,
      "outputs": [
        {
          "output_type": "stream",
          "name": "stdout",
          "text": [
            "      ID Laundry                              Name  \\\n",
            "16            17            Pusat Laundry Nasional   \n",
            "163          164  Green.Point Laundry Antar jemput   \n",
            "110          111         Cleanlite Laundry Bandung   \n",
            "101          102                   Laundry Sendiri   \n",
            "147          148                   Humaira Laundry   \n",
            "691          692                 Freshclin Laundry   \n",
            "704          705                      Bong Laundry   \n",
            "964          965                    Adeeva Laundry   \n",
            "1097        1098                    Bamb's Laundry   \n",
            "\n",
            "                                            Fulladdress  \\\n",
            "16    Jl. Pasirkoja No.12, Nyengseret, Kec. Astanaan...   \n",
            "163   Jl. Sekeloa No.30a, Lebakgede, Kecamatan Coblo...   \n",
            "110   Jl. Cibeunying Kolot No.26, Cigadung, Kec. Cib...   \n",
            "101   Jl. Margasari No.28, Margasari, Kec. Buahbatu,...   \n",
            "147   3M5V+64H, Jl. Gedebage Wetan, Cisaranten Kidul...   \n",
            "691   Deretan BCA, sblh Indomaret ps. Tb Barat, Jl. ...   \n",
            "704   Jl. Taman Palem Lestari Blk. C1 No.22, Cengkar...   \n",
            "964   Jl. Raya Semampir No.2c, Medokan Semampir, Kec...   \n",
            "1097  Jl. Selebes No.213, Belawan II, Medan Kota Bel...   \n",
            "\n",
            "                                             Categories              phone  \\\n",
            "16    Layanan Binatu, Pemasok peralatan binatu yang ...  +62 853-2056-6660   \n",
            "163   Pemasok peralatan binatu yang dioperasikan den...  +62 821-2135-9993   \n",
            "110   Binatu, Pemasok peralatan binatu yang dioperas...   +62 899-6173-360   \n",
            "101   Layanan Binatu, Pemasok peralatan binatu yang ...  +62 821-2128-1878   \n",
            "147   Pemasok peralatan binatu yang dioperasikan den...  +62 813-8298-6165   \n",
            "691   Binatu, Pemasok peralatan binatu yang dioperas...  +62 877-7911-6888   \n",
            "704   Binatu, Pemasok peralatan binatu yang dioperas...  +62 896-5160-8181   \n",
            "964   Pemasok peralatan binatu yang dioperasikan den...               None   \n",
            "1097  Pemasok peralatan binatu yang dioperasikan den...  +62 813-6169-4869   \n",
            "\n",
            "      Review Count  Average Rating  \\\n",
            "16              99             4.7   \n",
            "163              1             5.0   \n",
            "110             69             4.5   \n",
            "101             23             4.9   \n",
            "147              9             4.9   \n",
            "691             53             4.9   \n",
            "704             27             4.3   \n",
            "964              3             5.0   \n",
            "1097             0             0.0   \n",
            "\n",
            "                                             Review URL  \\\n",
            "16    https://search.google.com/local/reviews?placei...   \n",
            "163   https://search.google.com/local/reviews?placei...   \n",
            "110   https://search.google.com/local/reviews?placei...   \n",
            "101   https://search.google.com/local/reviews?placei...   \n",
            "147   https://search.google.com/local/reviews?placei...   \n",
            "691   https://search.google.com/local/reviews?placei...   \n",
            "704   https://search.google.com/local/reviews?placei...   \n",
            "964   https://search.google.com/local/reviews?placei...   \n",
            "1097                                               None   \n",
            "\n",
            "                                        Google Maps URL  Latitude   Longitude  \\\n",
            "16    https://www.google.com/maps?cid=16495643664376... -6.927032  107.603092   \n",
            "163   https://www.google.com/maps?cid=85297881037119... -6.889233  107.618087   \n",
            "110   https://www.google.com/maps?cid=13748205986806... -6.889256  107.629116   \n",
            "101   https://www.google.com/maps?cid=11883527521528... -6.956888  107.656647   \n",
            "147   https://www.google.com/maps?cid=14843328789995... -6.941981  107.692758   \n",
            "691   https://www.google.com/maps?cid=77633832815883... -6.238460  106.849289   \n",
            "704   https://www.google.com/maps?cid=30412403296351... -6.134809  106.719739   \n",
            "964   https://www.google.com/maps?cid=74866676093219... -7.305161  112.778850   \n",
            "1097  https://www.google.com/maps?cid=10370194359049...  3.776796   98.684575   \n",
            "\n",
            "                                   Website  \\\n",
            "16                                    None   \n",
            "163                                   None   \n",
            "110                                   None   \n",
            "101   https://instagram.com/laundrysendiri   \n",
            "147                                   None   \n",
            "691                                   None   \n",
            "704                                   None   \n",
            "964                                   None   \n",
            "1097                                     0   \n",
            "\n",
            "                                          Opening Hours  \\\n",
            "16    Sabtu: [08.00-20.00], Minggu: [08.00-20.00], S...   \n",
            "163   Sabtu: [Buka 24 jam], Minggu: [Buka 24 jam], S...   \n",
            "110   Sabtu: [07.30-20.00], Minggu: [07.30-20.00], S...   \n",
            "101   Sabtu: [06.00-21.00], Minggu: [06.00-21.00], S...   \n",
            "147   Sabtu: [Buka 24 jam], Minggu: [Tutup], Senin: ...   \n",
            "691   Minggu: [Tutup], Senin: [09.00-20.00], Selasa:...   \n",
            "704   Minggu: [10.00-22.00], Senin: [10.00-22.00], S...   \n",
            "964   Sabtu: [07.00-21.00], Minggu: [07.00-21.00], S...   \n",
            "1097  Minggu: [07.30-21.00], Senin: [07.30-21.00], S...   \n",
            "\n",
            "                                         Featured Image  \\\n",
            "16    https://lh5.googleusercontent.com/p/AF1QipNaoG...   \n",
            "163   https://lh5.googleusercontent.com/p/AF1QipP4yN...   \n",
            "110   https://lh5.googleusercontent.com/p/AF1QipOlYa...   \n",
            "101   https://lh5.googleusercontent.com/p/AF1QipOinV...   \n",
            "147   https://lh5.googleusercontent.com/p/AF1QipMct4...   \n",
            "691   https://lh5.googleusercontent.com/p/AF1QipOXoq...   \n",
            "704   https://lh5.googleusercontent.com/p/AF1QipPrxi...   \n",
            "964   https://lh5.googleusercontent.com/p/AF1QipMUd-...   \n",
            "1097  https://lh5.googleusercontent.com/p/AF1QipNQJD...   \n",
            "\n",
            "                                               Layanan     Distance  \n",
            "16    just wash, dry cleaning, iron wash, self laundry     2.064913  \n",
            "163   just wash, dry cleaning, iron wash, self laundry     4.777621  \n",
            "110                 just wash, iron wash, self laundry     5.726752  \n",
            "101   just wash, dry cleaning, iron wash, self laundry     8.843649  \n",
            "147                 just wash, iron wash, self laundry    12.020354  \n",
            "691                 just wash, iron wash, self laundry   111.127697  \n",
            "704                 just wash, iron wash, self laundry   129.470317  \n",
            "964                                       self laundry   574.532964  \n",
            "1097  just wash, dry cleaning, iron wash, self laundry  1546.143241  \n"
          ]
        }
      ]
    }
  ]
}