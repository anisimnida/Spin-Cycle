{
  "nbformat": 4,
  "nbformat_minor": 0,
  "metadata": {
    "colab": {
      "provenance": []
    },
    "kernelspec": {
      "name": "python3",
      "display_name": "Python 3"
    },
    "language_info": {
      "name": "python"
    }
  },
  "cells": [
    {
      "cell_type": "code",
      "execution_count": 1,
      "metadata": {
        "id": "xXNT9Rwz21VI"
      },
      "outputs": [],
      "source": [
        "import numpy as np\n",
        "import pandas as pd\n",
        "from sklearn.model_selection import train_test_split\n",
        "import tensorflow as tf\n",
        "from tensorflow.keras.models import Model\n",
        "from tensorflow.keras.layers import Input, Dense, Concatenate, Dropout, BatchNormalization\n",
        "from tensorflow.keras.callbacks import EarlyStopping, ReduceLROnPlateau\n",
        "from geopy.distance import geodesic\n",
        "from sklearn.metrics import mean_absolute_error, mean_squared_error\n",
        "import matplotlib.pyplot as plt\n",
        "import seaborn as sns\n",
        "from keras.models import load_model\n",
        "import math\n",
        "from sklearn.preprocessing import MinMaxScaler\n",
        "from tensorflow.keras.layers import Input, Dense, Concatenate\n",
        "from tensorflow.keras.layers.experimental.preprocessing import Normalization"
      ]
    },
    {
      "cell_type": "code",
      "source": [
        "data = pd.read_csv('https://raw.githubusercontent.com/elsamaulida5/machine-learning/main/cleaned%20data/laundry.csv')"
      ],
      "metadata": {
        "id": "oc1mF1744cnr"
      },
      "execution_count": 2,
      "outputs": []
    },
    {
      "cell_type": "code",
      "source": [
        "data.isna().sum()"
      ],
      "metadata": {
        "colab": {
          "base_uri": "https://localhost:8080/"
        },
        "id": "6zLIajcg8CCQ",
        "outputId": "e9d170c3-365d-4a4a-ea9d-c5ef59369307"
      },
      "execution_count": 3,
      "outputs": [
        {
          "output_type": "execute_result",
          "data": {
            "text/plain": [
              "ID Laundry           0\n",
              "Name                 0\n",
              "Fulladdress          2\n",
              "Categories           0\n",
              "phone              131\n",
              "Review Count         0\n",
              "Average Rating       0\n",
              "Review URL          24\n",
              "Google Maps URL      0\n",
              "Latitude             0\n",
              "Longitude            0\n",
              "Website            760\n",
              "Opening Hours      102\n",
              "Featured Image       8\n",
              "Layanan              3\n",
              "dtype: int64"
            ]
          },
          "metadata": {},
          "execution_count": 3
        }
      ]
    },
    {
      "cell_type": "code",
      "source": [
        "data = data.fillna('None')\n",
        "data.isna().sum()"
      ],
      "metadata": {
        "colab": {
          "base_uri": "https://localhost:8080/"
        },
        "id": "8b42pxj8HzU2",
        "outputId": "6378ec94-7aad-4c52-dd84-e6dcc74405c0"
      },
      "execution_count": 4,
      "outputs": [
        {
          "output_type": "execute_result",
          "data": {
            "text/plain": [
              "ID Laundry         0\n",
              "Name               0\n",
              "Fulladdress        0\n",
              "Categories         0\n",
              "phone              0\n",
              "Review Count       0\n",
              "Average Rating     0\n",
              "Review URL         0\n",
              "Google Maps URL    0\n",
              "Latitude           0\n",
              "Longitude          0\n",
              "Website            0\n",
              "Opening Hours      0\n",
              "Featured Image     0\n",
              "Layanan            0\n",
              "dtype: int64"
            ]
          },
          "metadata": {},
          "execution_count": 4
        }
      ]
    },
    {
      "cell_type": "code",
      "source": [
        "data['Layanan'].unique()"
      ],
      "metadata": {
        "colab": {
          "base_uri": "https://localhost:8080/"
        },
        "id": "1zAud5MqJeT1",
        "outputId": "fc32a17a-0cf8-4e7f-ad53-6da6dddfa4df"
      },
      "execution_count": 5,
      "outputs": [
        {
          "output_type": "execute_result",
          "data": {
            "text/plain": [
              "array(['just wash, dry cleaning, iron wash', 'just wash, iron wash',\n",
              "       'just wash, dry cleaning, iron wash, self laundry', 'None',\n",
              "       'just wash, dry cleaning, iron wash, carpet laundry',\n",
              "       'just wash, dry cleaning, iron wash, shoe laundry',\n",
              "       'just wash, iron wash, self laundry',\n",
              "       'just wash, dry cleaning, shoe laundry, iron wash, carpet laundry',\n",
              "       'just wash, car seat laundry, iron wash',\n",
              "       'just wash, dry cleaning, car seat laundry, iron wash',\n",
              "       'self laundry'], dtype=object)"
            ]
          },
          "metadata": {},
          "execution_count": 5
        }
      ]
    },
    {
      "cell_type": "code",
      "source": [
        "# Kata kunci untuk self-service\n",
        "keyword = 'self laundry'\n",
        "\n",
        "# Memfilter laundry yang termasuk self-service berdasarkan kata kunci\n",
        "self_service_df = data[data['Layanan'].str.contains(keyword, case=False, na=False)]\n",
        "\n",
        "# Menampilkan hasil\n",
        "#print(\"Data yang memiliki layanan self-service:\")\n",
        "#self_service_df"
      ],
      "metadata": {
        "id": "WUwHH39rR4VN"
      },
      "execution_count": 6,
      "outputs": []
    },
    {
      "cell_type": "markdown",
      "source": [
        "#### Model Self Service (Tensorflow)"
      ],
      "metadata": {
        "id": "Il1LhzzRnopo"
      }
    },
    {
      "cell_type": "code",
      "source": [
        "def prepare_data(self_service_df, user_location):\n",
        "    # Menambahkan fitur jarak ke lokasi pengguna\n",
        "    self_service_df['Distance'] = self_service_df.apply(lambda row: geodesic(user_location, (row['Latitude'], row['Longitude'])).km, axis=1)\n",
        "\n",
        "    # Membuat fitur dan label dengan fitur jarak\n",
        "    features = self_service_df[['Latitude', 'Longitude', 'Distance']]\n",
        "    labels = self_service_df['Average Rating']\n",
        "\n",
        "    # Split data menjadi train dan test\n",
        "    X_train, X_test, y_train, y_test = train_test_split(features, labels, test_size=0.2, random_state=42)\n",
        "\n",
        "    # Normalisasi fitur\n",
        "    scaler = MinMaxScaler()\n",
        "    X_train_scaled = scaler.fit_transform(X_train)\n",
        "    X_test_scaled = scaler.transform(X_test)\n",
        "\n",
        "    return X_train_scaled, X_test_scaled, y_train, y_test"
      ],
      "metadata": {
        "id": "2xxOTDWCr9Xr"
      },
      "execution_count": 7,
      "outputs": []
    },
    {
      "cell_type": "code",
      "source": [
        "def build_model():\n",
        "    # Input layer\n",
        "    latitude_input = Input(shape=(1,), name='latitude')\n",
        "    longitude_input = Input(shape=(1,), name='longitude')\n",
        "    distance_input = Input(shape=(1,), name='distance')\n",
        "\n",
        "    # Menggabungkan input\n",
        "    concatenated = Concatenate()([latitude_input, longitude_input, distance_input])\n",
        "\n",
        "    # Normalize the concatenated inputs\n",
        "    normalizer = Normalization()\n",
        "    normalizer.adapt(np.array([[0, 0, 0], [1, 1, 1]]))  # Dummy data to adapt normalizer\n",
        "    normalized = normalizer(concatenated)\n",
        "\n",
        "    # Membangun model neural network\n",
        "    x = Dense(64, activation='relu')(normalized)\n",
        "    x = Dropout(0.2)(x)  # Add dropout to prevent overfitting\n",
        "    x = Dense(32, activation='relu')(x)\n",
        "    x = Dropout(0.2)(x)  # Add dropout to prevent overfitting\n",
        "    output = Dense(1, activation='linear')(x)\n",
        "\n",
        "    # Model\n",
        "    model = Model(inputs=[latitude_input, longitude_input, distance_input], outputs=output)\n",
        "    model.compile(optimizer='adam', loss='mse')  # Use MSE as the loss function\n",
        "\n",
        "    return model\n",
        "\n",
        "def train_model(model, X_train_scaled, X_test_scaled, y_train, y_test):\n",
        "    # Membuat dataset TensorFlow dengan dua input terpisah\n",
        "    def split_lat_lon_distance(features, label):\n",
        "        latitude = features[0]\n",
        "        longitude = features[1]\n",
        "        distance = features[2]\n",
        "        return {'latitude': latitude, 'longitude': longitude, 'distance': distance}, label\n",
        "\n",
        "    # Membuat dataset dengan map function untuk memisahkan latitude dan longitude\n",
        "    train_dataset = tf.data.Dataset.from_tensor_slices((X_train_scaled, y_train.values))\n",
        "    train_dataset = train_dataset.shuffle(buffer_size=len(X_train_scaled)).map(split_lat_lon_distance).batch(32)\n",
        "\n",
        "    test_dataset = tf.data.Dataset.from_tensor_slices((X_test_scaled, y_test.values))\n",
        "    test_dataset = test_dataset.map(split_lat_lon_distance).batch(32)\n",
        "\n",
        "    # Early stopping\n",
        "    early_stopping = EarlyStopping(monitor='val_loss', patience=10, restore_best_weights=True)\n",
        "    reduce_lr = ReduceLROnPlateau(monitor='val_loss', factor=0.2, patience=5, min_lr=0.001)\n",
        "\n",
        "    # Melatih model\n",
        "    history = model.fit(train_dataset, epochs=100, validation_data=test_dataset, callbacks=[early_stopping, reduce_lr])\n",
        "\n",
        "    # Evaluasi model\n",
        "    loss = model.evaluate(test_dataset)\n",
        "    print(\"Test Loss:\", loss)\n",
        "\n",
        "    # Prediksi\n",
        "    y_pred = model.predict(test_dataset).flatten()  # Pastikan bentuknya sesuai\n",
        "    # Menghitung metrik tambahan\n",
        "    mae = mean_absolute_error(y_test, y_pred)\n",
        "    mse = mean_squared_error(y_test, y_pred)\n",
        "    print(\"Mean Absolute Error:\", mae)\n",
        "    print(\"Mean Squared Error:\", mse)\n",
        "\n",
        "    return history"
      ],
      "metadata": {
        "id": "aFd3bPXpQFO9"
      },
      "execution_count": 8,
      "outputs": []
    },
    {
      "cell_type": "code",
      "source": [
        "def save_model(model, filename):\n",
        "    model.save(filename)\n",
        "\n",
        "def main(self_service_df, user_location):\n",
        "    X_train_scaled, X_test_scaled, y_train, y_test = prepare_data(self_service_df, user_location)\n",
        "    model = build_model()\n",
        "    history = train_model(model, X_train_scaled, X_test_scaled, y_train, y_test)\n",
        "    save_model(model, \"model_SelfService.h5\")\n",
        "    return model, history\n",
        "\n",
        "user_location = np.array([-6.918552, 107.586449])\n",
        "model, history = main(self_service_df, user_location)"
      ],
      "metadata": {
        "colab": {
          "base_uri": "https://localhost:8080/"
        },
        "id": "-LhQiTxbQpvy",
        "outputId": "bfb7ced7-6409-45b7-e17f-269a59dedbce"
      },
      "execution_count": 9,
      "outputs": [
        {
          "output_type": "stream",
          "name": "stderr",
          "text": [
            "<ipython-input-7-a55f6d13727a>:3: SettingWithCopyWarning: \n",
            "A value is trying to be set on a copy of a slice from a DataFrame.\n",
            "Try using .loc[row_indexer,col_indexer] = value instead\n",
            "\n",
            "See the caveats in the documentation: https://pandas.pydata.org/pandas-docs/stable/user_guide/indexing.html#returning-a-view-versus-a-copy\n",
            "  self_service_df['Distance'] = self_service_df.apply(lambda row: geodesic(user_location, (row['Latitude'], row['Longitude'])).km, axis=1)\n"
          ]
        },
        {
          "output_type": "stream",
          "name": "stdout",
          "text": [
            "Epoch 1/100\n",
            "1/1 [==============================] - 1s 1s/step - loss: 18.8219 - val_loss: 23.5589 - lr: 0.0010\n",
            "Epoch 2/100\n",
            "1/1 [==============================] - 0s 51ms/step - loss: 18.2951 - val_loss: 23.0366 - lr: 0.0010\n",
            "Epoch 3/100\n",
            "1/1 [==============================] - 0s 39ms/step - loss: 18.3100 - val_loss: 22.5502 - lr: 0.0010\n",
            "Epoch 4/100\n",
            "1/1 [==============================] - 0s 43ms/step - loss: 18.0223 - val_loss: 22.0792 - lr: 0.0010\n",
            "Epoch 5/100\n",
            "1/1 [==============================] - 0s 39ms/step - loss: 16.8840 - val_loss: 21.6125 - lr: 0.0010\n",
            "Epoch 6/100\n",
            "1/1 [==============================] - 0s 43ms/step - loss: 17.7668 - val_loss: 21.1616 - lr: 0.0010\n",
            "Epoch 7/100\n",
            "1/1 [==============================] - 0s 38ms/step - loss: 15.9534 - val_loss: 20.7143 - lr: 0.0010\n",
            "Epoch 8/100\n",
            "1/1 [==============================] - 0s 38ms/step - loss: 15.6581 - val_loss: 20.2827 - lr: 0.0010\n",
            "Epoch 9/100\n",
            "1/1 [==============================] - 0s 56ms/step - loss: 16.7943 - val_loss: 19.8667 - lr: 0.0010\n",
            "Epoch 10/100\n",
            "1/1 [==============================] - 0s 40ms/step - loss: 16.0081 - val_loss: 19.4617 - lr: 0.0010\n",
            "Epoch 11/100\n",
            "1/1 [==============================] - 0s 42ms/step - loss: 15.0985 - val_loss: 19.0596 - lr: 0.0010\n",
            "Epoch 12/100\n",
            "1/1 [==============================] - 0s 45ms/step - loss: 16.2916 - val_loss: 18.6809 - lr: 0.0010\n",
            "Epoch 13/100\n",
            "1/1 [==============================] - 0s 39ms/step - loss: 16.1242 - val_loss: 18.3070 - lr: 0.0010\n",
            "Epoch 14/100\n",
            "1/1 [==============================] - 0s 40ms/step - loss: 15.2037 - val_loss: 17.9449 - lr: 0.0010\n",
            "Epoch 15/100\n",
            "1/1 [==============================] - 0s 39ms/step - loss: 15.5588 - val_loss: 17.5953 - lr: 0.0010\n",
            "Epoch 16/100\n",
            "1/1 [==============================] - 0s 41ms/step - loss: 13.4654 - val_loss: 17.2530 - lr: 0.0010\n",
            "Epoch 17/100\n",
            "1/1 [==============================] - 0s 40ms/step - loss: 14.0727 - val_loss: 16.9133 - lr: 0.0010\n",
            "Epoch 18/100\n",
            "1/1 [==============================] - 0s 62ms/step - loss: 12.4723 - val_loss: 16.5708 - lr: 0.0010\n",
            "Epoch 19/100\n",
            "1/1 [==============================] - 0s 57ms/step - loss: 12.7375 - val_loss: 16.2273 - lr: 0.0010\n",
            "Epoch 20/100\n",
            "1/1 [==============================] - 0s 42ms/step - loss: 12.7090 - val_loss: 15.8780 - lr: 0.0010\n",
            "Epoch 21/100\n",
            "1/1 [==============================] - 0s 57ms/step - loss: 13.6056 - val_loss: 15.5285 - lr: 0.0010\n",
            "Epoch 22/100\n",
            "1/1 [==============================] - 0s 39ms/step - loss: 13.1273 - val_loss: 15.1854 - lr: 0.0010\n",
            "Epoch 23/100\n",
            "1/1 [==============================] - 0s 44ms/step - loss: 12.3899 - val_loss: 14.8424 - lr: 0.0010\n",
            "Epoch 24/100\n",
            "1/1 [==============================] - 0s 39ms/step - loss: 10.6806 - val_loss: 14.4964 - lr: 0.0010\n",
            "Epoch 25/100\n",
            "1/1 [==============================] - 0s 42ms/step - loss: 12.0376 - val_loss: 14.1453 - lr: 0.0010\n",
            "Epoch 26/100\n",
            "1/1 [==============================] - 0s 42ms/step - loss: 10.8411 - val_loss: 13.7734 - lr: 0.0010\n",
            "Epoch 27/100\n",
            "1/1 [==============================] - 0s 43ms/step - loss: 10.0800 - val_loss: 13.3889 - lr: 0.0010\n",
            "Epoch 28/100\n",
            "1/1 [==============================] - 0s 41ms/step - loss: 10.0196 - val_loss: 13.0033 - lr: 0.0010\n",
            "Epoch 29/100\n",
            "1/1 [==============================] - 0s 42ms/step - loss: 11.9878 - val_loss: 12.6163 - lr: 0.0010\n",
            "Epoch 30/100\n",
            "1/1 [==============================] - 0s 38ms/step - loss: 9.2677 - val_loss: 12.2255 - lr: 0.0010\n",
            "Epoch 31/100\n",
            "1/1 [==============================] - 0s 44ms/step - loss: 8.7923 - val_loss: 11.8345 - lr: 0.0010\n",
            "Epoch 32/100\n",
            "1/1 [==============================] - 0s 42ms/step - loss: 9.2721 - val_loss: 11.4446 - lr: 0.0010\n",
            "Epoch 33/100\n",
            "1/1 [==============================] - 0s 41ms/step - loss: 9.1318 - val_loss: 11.0557 - lr: 0.0010\n",
            "Epoch 34/100\n",
            "1/1 [==============================] - 0s 50ms/step - loss: 10.7973 - val_loss: 10.6717 - lr: 0.0010\n",
            "Epoch 35/100\n",
            "1/1 [==============================] - 0s 39ms/step - loss: 9.6325 - val_loss: 10.2886 - lr: 0.0010\n",
            "Epoch 36/100\n",
            "1/1 [==============================] - 0s 41ms/step - loss: 9.2842 - val_loss: 9.8986 - lr: 0.0010\n",
            "Epoch 37/100\n",
            "1/1 [==============================] - 0s 38ms/step - loss: 6.1313 - val_loss: 9.5083 - lr: 0.0010\n",
            "Epoch 38/100\n",
            "1/1 [==============================] - 0s 39ms/step - loss: 8.4997 - val_loss: 9.1209 - lr: 0.0010\n",
            "Epoch 39/100\n",
            "1/1 [==============================] - 0s 39ms/step - loss: 9.7260 - val_loss: 8.7377 - lr: 0.0010\n",
            "Epoch 40/100\n",
            "1/1 [==============================] - 0s 40ms/step - loss: 6.1930 - val_loss: 8.3576 - lr: 0.0010\n",
            "Epoch 41/100\n",
            "1/1 [==============================] - 0s 39ms/step - loss: 5.8052 - val_loss: 7.9795 - lr: 0.0010\n",
            "Epoch 42/100\n",
            "1/1 [==============================] - 0s 38ms/step - loss: 4.4369 - val_loss: 7.6124 - lr: 0.0010\n",
            "Epoch 43/100\n",
            "1/1 [==============================] - 0s 39ms/step - loss: 5.0119 - val_loss: 7.2493 - lr: 0.0010\n",
            "Epoch 44/100\n",
            "1/1 [==============================] - 0s 39ms/step - loss: 4.4866 - val_loss: 6.8810 - lr: 0.0010\n",
            "Epoch 45/100\n",
            "1/1 [==============================] - 0s 40ms/step - loss: 5.8621 - val_loss: 6.5187 - lr: 0.0010\n",
            "Epoch 46/100\n",
            "1/1 [==============================] - 0s 40ms/step - loss: 6.5657 - val_loss: 6.1623 - lr: 0.0010\n",
            "Epoch 47/100\n",
            "1/1 [==============================] - 0s 44ms/step - loss: 5.2751 - val_loss: 5.8114 - lr: 0.0010\n",
            "Epoch 48/100\n",
            "1/1 [==============================] - 0s 42ms/step - loss: 4.4726 - val_loss: 5.4673 - lr: 0.0010\n",
            "Epoch 49/100\n",
            "1/1 [==============================] - 0s 50ms/step - loss: 3.7850 - val_loss: 5.1319 - lr: 0.0010\n",
            "Epoch 50/100\n",
            "1/1 [==============================] - 0s 39ms/step - loss: 4.6376 - val_loss: 4.7969 - lr: 0.0010\n",
            "Epoch 51/100\n",
            "1/1 [==============================] - 0s 48ms/step - loss: 2.6760 - val_loss: 4.4696 - lr: 0.0010\n",
            "Epoch 52/100\n",
            "1/1 [==============================] - 0s 41ms/step - loss: 2.8392 - val_loss: 4.1518 - lr: 0.0010\n",
            "Epoch 53/100\n",
            "1/1 [==============================] - 0s 39ms/step - loss: 3.4512 - val_loss: 3.8427 - lr: 0.0010\n",
            "Epoch 54/100\n",
            "1/1 [==============================] - 0s 42ms/step - loss: 3.6070 - val_loss: 3.5474 - lr: 0.0010\n",
            "Epoch 55/100\n",
            "1/1 [==============================] - 0s 38ms/step - loss: 1.5439 - val_loss: 3.2615 - lr: 0.0010\n",
            "Epoch 56/100\n",
            "1/1 [==============================] - 0s 39ms/step - loss: 3.1697 - val_loss: 2.9855 - lr: 0.0010\n",
            "Epoch 57/100\n",
            "1/1 [==============================] - 0s 41ms/step - loss: 2.4485 - val_loss: 2.7227 - lr: 0.0010\n",
            "Epoch 58/100\n",
            "1/1 [==============================] - 0s 42ms/step - loss: 1.8987 - val_loss: 2.4749 - lr: 0.0010\n",
            "Epoch 59/100\n",
            "1/1 [==============================] - 0s 40ms/step - loss: 1.5381 - val_loss: 2.2416 - lr: 0.0010\n",
            "Epoch 60/100\n",
            "1/1 [==============================] - 0s 40ms/step - loss: 1.9329 - val_loss: 2.0183 - lr: 0.0010\n",
            "Epoch 61/100\n",
            "1/1 [==============================] - 0s 58ms/step - loss: 1.1192 - val_loss: 1.8115 - lr: 0.0010\n",
            "Epoch 62/100\n",
            "1/1 [==============================] - 0s 39ms/step - loss: 2.7475 - val_loss: 1.6131 - lr: 0.0010\n",
            "Epoch 63/100\n",
            "1/1 [==============================] - 0s 39ms/step - loss: 1.1388 - val_loss: 1.4289 - lr: 0.0010\n",
            "Epoch 64/100\n",
            "1/1 [==============================] - 0s 41ms/step - loss: 1.4633 - val_loss: 1.2613 - lr: 0.0010\n",
            "Epoch 65/100\n",
            "1/1 [==============================] - 0s 41ms/step - loss: 1.6514 - val_loss: 1.1043 - lr: 0.0010\n",
            "Epoch 66/100\n",
            "1/1 [==============================] - 0s 39ms/step - loss: 1.7207 - val_loss: 0.9563 - lr: 0.0010\n",
            "Epoch 67/100\n",
            "1/1 [==============================] - 0s 39ms/step - loss: 1.8119 - val_loss: 0.8182 - lr: 0.0010\n",
            "Epoch 68/100\n",
            "1/1 [==============================] - 0s 56ms/step - loss: 1.2582 - val_loss: 0.6956 - lr: 0.0010\n",
            "Epoch 69/100\n",
            "1/1 [==============================] - 0s 42ms/step - loss: 2.1137 - val_loss: 0.5830 - lr: 0.0010\n",
            "Epoch 70/100\n",
            "1/1 [==============================] - 0s 38ms/step - loss: 0.9025 - val_loss: 0.4854 - lr: 0.0010\n",
            "Epoch 71/100\n",
            "1/1 [==============================] - 0s 38ms/step - loss: 0.8598 - val_loss: 0.3992 - lr: 0.0010\n",
            "Epoch 72/100\n",
            "1/1 [==============================] - 0s 38ms/step - loss: 1.0648 - val_loss: 0.3240 - lr: 0.0010\n",
            "Epoch 73/100\n",
            "1/1 [==============================] - 0s 39ms/step - loss: 0.6152 - val_loss: 0.2590 - lr: 0.0010\n",
            "Epoch 74/100\n",
            "1/1 [==============================] - 0s 73ms/step - loss: 0.3925 - val_loss: 0.2026 - lr: 0.0010\n",
            "Epoch 75/100\n",
            "1/1 [==============================] - 0s 84ms/step - loss: 0.2171 - val_loss: 0.1549 - lr: 0.0010\n",
            "Epoch 76/100\n",
            "1/1 [==============================] - 0s 68ms/step - loss: 1.1798 - val_loss: 0.1198 - lr: 0.0010\n",
            "Epoch 77/100\n",
            "1/1 [==============================] - 0s 64ms/step - loss: 1.1750 - val_loss: 0.0906 - lr: 0.0010\n",
            "Epoch 78/100\n",
            "1/1 [==============================] - 0s 70ms/step - loss: 0.6110 - val_loss: 0.0668 - lr: 0.0010\n",
            "Epoch 79/100\n",
            "1/1 [==============================] - 0s 82ms/step - loss: 0.9022 - val_loss: 0.0475 - lr: 0.0010\n",
            "Epoch 80/100\n",
            "1/1 [==============================] - 0s 72ms/step - loss: 0.6053 - val_loss: 0.0330 - lr: 0.0010\n",
            "Epoch 81/100\n",
            "1/1 [==============================] - 0s 124ms/step - loss: 0.8412 - val_loss: 0.0226 - lr: 0.0010\n",
            "Epoch 82/100\n",
            "1/1 [==============================] - 0s 147ms/step - loss: 1.4206 - val_loss: 0.0162 - lr: 0.0010\n",
            "Epoch 83/100\n",
            "1/1 [==============================] - 0s 134ms/step - loss: 1.1156 - val_loss: 0.0130 - lr: 0.0010\n",
            "Epoch 84/100\n",
            "1/1 [==============================] - 0s 100ms/step - loss: 0.5920 - val_loss: 0.0124 - lr: 0.0010\n",
            "Epoch 85/100\n",
            "1/1 [==============================] - 0s 136ms/step - loss: 0.4094 - val_loss: 0.0140 - lr: 0.0010\n",
            "Epoch 86/100\n",
            "1/1 [==============================] - 0s 120ms/step - loss: 1.1968 - val_loss: 0.0163 - lr: 0.0010\n",
            "Epoch 87/100\n",
            "1/1 [==============================] - 0s 123ms/step - loss: 0.8262 - val_loss: 0.0195 - lr: 0.0010\n",
            "Epoch 88/100\n",
            "1/1 [==============================] - 0s 87ms/step - loss: 2.0837 - val_loss: 0.0217 - lr: 0.0010\n",
            "Epoch 89/100\n",
            "1/1 [==============================] - 0s 95ms/step - loss: 0.9168 - val_loss: 0.0218 - lr: 0.0010\n",
            "Epoch 90/100\n",
            "1/1 [==============================] - 0s 125ms/step - loss: 0.1966 - val_loss: 0.0214 - lr: 0.0010\n",
            "Epoch 91/100\n",
            "1/1 [==============================] - 0s 77ms/step - loss: 1.7222 - val_loss: 0.0201 - lr: 0.0010\n",
            "Epoch 92/100\n",
            "1/1 [==============================] - 0s 165ms/step - loss: 0.7488 - val_loss: 0.0185 - lr: 0.0010\n",
            "Epoch 93/100\n",
            "1/1 [==============================] - 0s 122ms/step - loss: 1.1143 - val_loss: 0.0165 - lr: 0.0010\n",
            "Epoch 94/100\n",
            "1/1 [==============================] - 0s 214ms/step - loss: 1.3606 - val_loss: 0.0152 - lr: 0.0010\n",
            "1/1 [==============================] - 0s 79ms/step - loss: 0.0124\n",
            "Test Loss: 0.012444937601685524\n",
            "1/1 [==============================] - 1s 621ms/step\n",
            "Mean Absolute Error: 0.11128025054931623\n",
            "Mean Squared Error: 0.012444998715982323\n"
          ]
        },
        {
          "output_type": "stream",
          "name": "stderr",
          "text": [
            "/usr/local/lib/python3.10/dist-packages/keras/src/engine/training.py:3103: UserWarning: You are saving your model as an HDF5 file via `model.save()`. This file format is considered legacy. We recommend using instead the native Keras format, e.g. `model.save('my_model.keras')`.\n",
            "  saving_api.save_model(\n"
          ]
        }
      ]
    },
    {
      "cell_type": "code",
      "source": [
        "# Load the saved model\n",
        "model = load_model(\"model_SelfService.h5\")\n",
        "\n",
        "# Plot training & validation loss values\n",
        "plt.figure(figsize=(10, 6))\n",
        "plt.plot(history.history['loss'], label='train_loss')\n",
        "plt.plot(history.history['val_loss'], label='val_loss')\n",
        "plt.title('Model Loss')\n",
        "plt.ylabel('Loss')\n",
        "plt.xlabel('Epoch')\n",
        "plt.legend(loc='upper right')\n",
        "plt.show()"
      ],
      "metadata": {
        "colab": {
          "base_uri": "https://localhost:8080/",
          "height": 564
        },
        "id": "3ZigYzN-QsXu",
        "outputId": "7dca72f0-bf9b-478e-f994-abe950d03f62"
      },
      "execution_count": 10,
      "outputs": [
        {
          "output_type": "display_data",
          "data": {
            "text/plain": [
              "<Figure size 1000x600 with 1 Axes>"
            ],
            "image/png": "[encoded data removed]"
          },
          "metadata": {}
        }
      ]
    },
    {
      "cell_type": "code",
      "source": [
        "# Menjalankan Model_SelfService.h5\n",
        "# Fungsi Haversine\n",
        "def haversine(lon1, lat1, lon2, lat2):\n",
        "    lon1, lat1, lon2, lat2 = map(math.radians, [lon1, lat1, lon2, lat2])\n",
        "    dlon = lon2 - lon1\n",
        "    dlat = lat2 - lat1\n",
        "    a = math.sin(dlat/2)**2 + math.cos(lat1) * math.cos(lat2) * math.sin(dlon/2)**2\n",
        "    c = 2 * math.asin(math.sqrt(a))\n",
        "    r = 6371\n",
        "    return c * r\n",
        "\n",
        "def find_nearest_places(self_service_df, user_location, model_path):\n",
        "    model = load_model(model_path)\n",
        "\n",
        "    # Menghitung jarak dari lokasi pengguna ke setiap tempat\n",
        "    self_service_df.loc[:, 'Distance'] = self_service_df.apply(lambda row: haversine(user_location[1], user_location[0], row['Longitude'], row['Latitude']), axis=1)\n",
        "\n",
        "    # Menyusun tempat berdasarkan prediksi rating dan jarak\n",
        "    recommended_places = self_service_df.sort_values(by=['Distance'], ascending=[True])\n",
        "\n",
        "    # Membatasi hasil menjadi 10 tempat terdekat\n",
        "    top_10_places = recommended_places.head(10)\n",
        "\n",
        "    return top_10_places\n",
        "\n",
        "def print_nearest_places(nearest_places, user_location):\n",
        "    selected_columns = ['Name', 'Fulladdress', 'Categories', 'phone', 'Average Rating', 'Distance', 'Google Maps URL','Website', 'Opening Hours', 'Layanan']\n",
        "\n",
        "    # Filter tempat yang berada dalam jarak 500 km\n",
        "    nearest_places_within_50km = nearest_places[nearest_places['Distance'] <= 50]\n",
        "\n",
        "    if nearest_places_within_50km.empty:\n",
        "        print(\"Tidak ada tempat laundry yang ditemukan\")\n",
        "        return\n",
        "\n",
        "    for index, row in nearest_places.iterrows():\n",
        "      print(f\"Nama Laundry: {row['Name']}\")\n",
        "      print(f\"Alamat Lengkap: {row['Fulladdress']}\")\n",
        "      print(f\"Telepon: {row['phone']}\")\n",
        "      print(f\"Rating: {row['Average Rating']}\")\n",
        "      print(f\"Jarak: {row['Distance']:.2f} km\")\n",
        "      print(f\"Google Maps URL: {row['Google Maps URL']}\")\n",
        "      print(f\"Website: {row['Website']}\")\n",
        "      print(f\"Jam Buka: {row['Opening Hours']}\")\n",
        "      print(f\"Layanan: {row['Layanan']}\")\n",
        "      print(\"\\n\")\n",
        "\n",
        "# Contoh penggunaan fungsi\n",
        "user_location = np.array([-6.918552, 107.586449])\n",
        "nearest_places_sorted = find_nearest_places(self_service_df, user_location, \"model_SelfService.h5\")\n",
        "print_nearest_places(nearest_places_sorted, user_location)"
      ],
      "metadata": {
        "colab": {
          "base_uri": "https://localhost:8080/"
        },
        "id": "2C13D_7uQ17F",
        "outputId": "80e1f73d-ff23-4182-bd31-69518d869b8a"
      },
      "execution_count": 11,
      "outputs": [
        {
          "output_type": "stream",
          "name": "stdout",
          "text": [
            "Nama Laundry: Pusat Laundry Nasional\n",
            "Alamat Lengkap: Jl. Pasirkoja No.12, Nyengseret, Kec. Astanaanyar, Kota Bandung, Jawa Barat 4024\n",
            "Telepon: +62 853-2056-6660\n",
            "Rating: 4.7\n",
            "Jarak: 2.06 km\n",
            "Google Maps URL: https://www.google.com/maps?cid=16495643664376165444\n",
            "Website: None\n",
            "Jam Buka: Sabtu: [08.00-20.00], Minggu: [08.00-20.00], Senin: [08.00-20.00], Selasa: [08.0\n",
            "Layanan: just wash, dry cleaning, iron wash, self laundry\n",
            "\n",
            "\n",
            "Nama Laundry: Green.Point Laundry Antar jemput\n",
            "Alamat Lengkap: Jl. Sekeloa No.30a, Lebakgede, Kecamatan Coblong, Kota Bandung, Jawa Barat 40134\n",
            "Telepon: +62 821-2135-9993\n",
            "Rating: 5.0\n",
            "Jarak: 4.78 km\n",
            "Google Maps URL: https://www.google.com/maps?cid=8529788103711985345\n",
            "Website: None\n",
            "Jam Buka: Sabtu: [Buka 24 jam], Minggu: [Buka 24 jam], Senin: [Buka 24 jam], Selasa: [Buka\n",
            "Layanan: just wash, dry cleaning, iron wash, self laundry\n",
            "\n",
            "\n",
            "Nama Laundry: Cleanlite Laundry Bandung\n",
            "Alamat Lengkap: Jl. Cibeunying Kolot No.26, Cigadung, Kec. Cibeunying Kaler, Kota Bandung, Jawa \n",
            "Telepon: +62 899-6173-360\n",
            "Rating: 4.5\n",
            "Jarak: 5.73 km\n",
            "Google Maps URL: https://www.google.com/maps?cid=13748205986806069277\n",
            "Website: None\n",
            "Jam Buka: Sabtu: [07.30-20.00], Minggu: [07.30-20.00], Senin: [07.30-20.15], Selasa: [07.3\n",
            "Layanan: just wash, iron wash, self laundry\n",
            "\n",
            "\n",
            "Nama Laundry: Laundry Sendiri\n",
            "Alamat Lengkap: Jl. Margasari No.28, Margasari, Kec. Buahbatu, Kota Bandung, Jawa Barat 40287\n",
            "Telepon: +62 821-2128-1878\n",
            "Rating: 4.9\n",
            "Jarak: 8.84 km\n",
            "Google Maps URL: https://www.google.com/maps?cid=11883527521528499544\n",
            "Website: https://instagram.com/laundrysendiri\n",
            "Jam Buka: Sabtu: [06.00-21.00], Minggu: [06.00-21.00], Senin: [06.00-21.00], Selasa: [06.0\n",
            "Layanan: just wash, dry cleaning, iron wash, self laundry\n",
            "\n",
            "\n",
            "Nama Laundry: Humaira Laundry\n",
            "Alamat Lengkap: 3M5V+64H, Jl. Gedebage Wetan, Cisaranten Kidul, Kec. Gedebage, Kota Bandung, Jaw\n",
            "Telepon: +62 813-8298-6165\n",
            "Rating: 4.9\n",
            "Jarak: 12.02 km\n",
            "Google Maps URL: https://www.google.com/maps?cid=14843328789995545598\n",
            "Website: None\n",
            "Jam Buka: Sabtu: [Buka 24 jam], Minggu: [Tutup], Senin: [Buka 24 jam], Selasa: [Buka 24 ja\n",
            "Layanan: just wash, iron wash, self laundry\n",
            "\n",
            "\n",
            "Nama Laundry: Freshclin Laundry\n",
            "Alamat Lengkap: Deretan BCA, sblh Indomaret ps. Tb Barat, Jl. Tebet Barat IX No.34, Tebet Bar., \n",
            "Telepon: +62 877-7911-6888\n",
            "Rating: 4.9\n",
            "Jarak: 111.13 km\n",
            "Google Maps URL: https://www.google.com/maps?cid=7763383281588302587\n",
            "Website: None\n",
            "Jam Buka: Minggu: [Tutup], Senin: [09.00-20.00], Selasa: [09.00-20.00], Rabu: [09.00-20.00\n",
            "Layanan: just wash, iron wash, self laundry\n",
            "\n",
            "\n",
            "Nama Laundry: Bong Laundry\n",
            "Alamat Lengkap: Jl. Taman Palem Lestari Blk. C1 No.22, Cengkareng Bar., Kecamatan Cengkareng, Ko\n",
            "Telepon: +62 896-5160-8181\n",
            "Rating: 4.3\n",
            "Jarak: 129.47 km\n",
            "Google Maps URL: https://www.google.com/maps?cid=3041240329635181732\n",
            "Website: None\n",
            "Jam Buka: Minggu: [10.00-22.00], Senin: [10.00-22.00], Selasa: [10.00-22.00], Rabu: [10.00\n",
            "Layanan: just wash, iron wash, self laundry\n",
            "\n",
            "\n",
            "Nama Laundry: Adeeva Laundry\n",
            "Alamat Lengkap: Jl. Raya Semampir No.2c, Medokan Semampir, Kec. Sukolilo, Surabaya, Jawa Timur 6\n",
            "Telepon: None\n",
            "Rating: 5.0\n",
            "Jarak: 574.53 km\n",
            "Google Maps URL: https://www.google.com/maps?cid=7486667609321958604\n",
            "Website: None\n",
            "Jam Buka: Sabtu: [07.00-21.00], Minggu: [07.00-21.00], Senin: [07.00-21.00], Selasa: [07.0\n",
            "Layanan: self laundry\n",
            "\n",
            "\n",
            "Nama Laundry: Bamb's Laundry\n",
            "Alamat Lengkap: Jl. Selebes No.213, Belawan II, Medan Kota Belawan, Kota Medan, Sumatera Utara 2\n",
            "Telepon: +62 813-6169-4869\n",
            "Rating: 0.0\n",
            "Jarak: 1546.14 km\n",
            "Google Maps URL: https://www.google.com/maps?cid=10370194359049638141\n",
            "Website: 0\n",
            "Jam Buka: Minggu: [07.30-21.00], Senin: [07.30-21.00], Selasa: [07.30-21.00], Rabu: [07.30\n",
            "Layanan: just wash, dry cleaning, iron wash, self laundry\n",
            "\n",
            "\n"
          ]
        }
      ]
    },
    {
      "cell_type": "code",
      "source": [
        "import pandas as pd\n",
        "from geopy.distance import geodesic\n",
        "\n",
        "# Persiapkan data lokasi pengguna\n",
        "user_location = (-6.918552, 107.586449)  # Koordinat lokasi pengguna\n",
        "\n",
        "# Fungsi untuk menghitung jarak antara lokasi pengguna dan setiap laundry\n",
        "def calculate_distance(row):\n",
        "    laundry_location = (row['Latitude'], row['Longitude'])\n",
        "    return geodesic(user_location, laundry_location).kilometers\n",
        "\n",
        "# Hitung jarak dari lokasi pengguna ke setiap laundry\n",
        "self_service_df['Distance'] = self_service_df.apply(calculate_distance, axis=1)\n",
        "\n",
        "if not self_service_df.empty:\n",
        "    # Urutkan DataFrame berdasarkan jarak terdekat\n",
        "    nearest_laundries = self_service_df.sort_values(by='Distance')\n",
        "\n",
        "    # Ambil 5 laundry terdekat sebagai rekomendasi\n",
        "    recommendations = nearest_laundries.head(10)\n",
        "\n",
        "    # 4. Evaluasi Model (Misalnya: Visualisasi Rekomendasi)\n",
        "    # Anda dapat memvisualisasikan rekomendasi dalam peta atau grafik lainnya\n",
        "\n",
        "    # Tampilkan hasil rekomendasi\n",
        "    print(\"Rekomendasi Laundry Self-Service Terdekat:\")\n",
        "    print(recommendations[['Name', 'Distance']])\n",
        "else:\n",
        "    # Tidak ada laundry self-service yang tersedia\n",
        "    print(\"Maaf, tidak ada laundry self-service yang tersedia di dekat lokasi Anda.\")\n",
        "    # Anda bisa memberikan rekomendasi alternatif atau menawarkan layanan lain kepada pengguna"
      ],
      "metadata": {
        "colab": {
          "base_uri": "https://localhost:8080/"
        },
        "id": "qAlxhsaGbvZa",
        "outputId": "d0a6a760-44c0-460e-8be6-5f76cb745d97"
      },
      "execution_count": 12,
      "outputs": [
        {
          "output_type": "stream",
          "name": "stdout",
          "text": [
            "Rekomendasi Laundry Self-Service Terdekat:\n",
            "                                  Name     Distance\n",
            "16              Pusat Laundry Nasional     2.064490\n",
            "163   Green.Point Laundry Antar jemput     4.768535\n",
            "110          Cleanlite Laundry Bandung     5.721231\n",
            "101                    Laundry Sendiri     8.840451\n",
            "147                    Humaira Laundry    12.030689\n",
            "691                  Freshclin Laundry   110.917280\n",
            "704                       Bong Laundry   129.233568\n",
            "964                     Adeeva Laundry   575.184933\n",
            "1097                    Bamb's Laundry  1541.793983\n"
          ]
        },
        {
          "output_type": "stream",
          "name": "stderr",
          "text": [
            "<ipython-input-12-cecb735ef191>:13: SettingWithCopyWarning: \n",
            "A value is trying to be set on a copy of a slice from a DataFrame.\n",
            "Try using .loc[row_indexer,col_indexer] = value instead\n",
            "\n",
            "See the caveats in the documentation: https://pandas.pydata.org/pandas-docs/stable/user_guide/indexing.html#returning-a-view-versus-a-copy\n",
            "  self_service_df['Distance'] = self_service_df.apply(calculate_distance, axis=1)\n"
          ]
        }
      ]
    },
    {
      "cell_type": "code",
      "source": [],
      "metadata": {
        "id": "YFk30lI_5Fcf"
      },
      "execution_count": 12,
      "outputs": []
    }
  ]
}